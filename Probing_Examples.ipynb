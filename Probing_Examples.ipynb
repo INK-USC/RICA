{
 "cells": [
  {
   "cell_type": "markdown",
   "metadata": {},
   "source": [
    "# Examples for Probing LMs with RICA"
   ]
  },
  {
   "cell_type": "markdown",
   "metadata": {},
   "source": [
    "## Loading RICA Test data"
   ]
  },
  {
   "cell_type": "code",
   "execution_count": 104,
   "metadata": {},
   "outputs": [],
   "source": [
    "test_sentences=[]\n",
    "with open('data/joint_test_set/test_sentences.txt', 'r') as f:\n",
    "    for line in f:\n",
    "        test_sentences.append(line.replace('\\n',''))\n",
    "\n",
    "test_sentences_masks = []\n",
    "with open('data/joint_test_set/test_sentences_m.txt', 'r') as f:\n",
    "    for line in f:\n",
    "        test_sentences_masks.append(line.replace('\\n',''))\n",
    "      \n",
    "import ast\n",
    "test_sentences_mask_pairs = []\n",
    "with open('data/joint_test_set/config.txt', 'r') as f:\n",
    "    for line in f:\n",
    "        test_sentences_mask_pairs.append(ast.literal_eval(line))"
   ]
  },
  {
   "cell_type": "markdown",
   "metadata": {},
   "source": [
    "## Convert to masked statement format for probing"
   ]
  },
  {
   "cell_type": "code",
   "execution_count": 35,
   "metadata": {},
   "outputs": [],
   "source": [
    "masked_test_sentences = []\n",
    "\n",
    "counter=0\n",
    "for test_sentence in test_sentences:\n",
    "    masked_word = test_sentences_masks[counter]\n",
    "    k = test_sentence.rfind(masked_word)\n",
    "    new_string = test_sentence[:k] + \"[MASK]\" + test_sentence[k+len(masked_word):]\n",
    "    masked_test_sentences.append(new_string)\n",
    "    counter+=1"
   ]
  },
  {
   "cell_type": "code",
   "execution_count": 38,
   "metadata": {},
   "outputs": [
    {
     "data": {
      "text/plain": [
       "['fhvpltjpwcd is made out of paper and kuna is made out of metal, so fhvpltjpwcd is [MASK] likely to crumple than kuna',\n",
       " 'kuna is made of paper, fhvpltjpwcd is made of metal, so fhvpltjpwcd is [MASK] likely to crumple than kuna',\n",
       " 'fhvpltjpwcd is made of paper, kuna is made of metal, so kuna is [MASK] likely to crumple than fhvpltjpwcd',\n",
       " 'lnbnzthevf is made out of paper and nzwrmmw is made out of metal, so lnbnzthevf is not [MASK] likely to crumple than nzwrmmw',\n",
       " 'nzwrmmw is made out of paper and lnbnzthevf is made out of metal, so lnbnzthevf is not [MASK] likely to crumple than nzwrmmw']"
      ]
     },
     "execution_count": 38,
     "metadata": {},
     "output_type": "execute_result"
    }
   ],
   "source": [
    "masked_test_sentences[:5]"
   ]
  },
  {
   "cell_type": "markdown",
   "metadata": {},
   "source": [
    "## Loading model from latest Huggingface pipeline for masked word prediction\n",
    "### For fine-tuned models, check our instructions on README and replace model with your model file address"
   ]
  },
  {
   "cell_type": "code",
   "execution_count": null,
   "metadata": {
    "scrolled": true
   },
   "outputs": [],
   "source": [
    "from transformers import pipeline\n",
    "unmasker = pipeline('fill-mask', model='bert-base-uncased',top_k=100)\n",
    "# For fine-gtu\n",
    "unmasker(masked_test_sentences[53])\n"
   ]
  },
  {
   "cell_type": "code",
   "execution_count": null,
   "metadata": {
    "scrolled": true
   },
   "outputs": [],
   "source": [
    "bert_base_predictions = []\n",
    "\n",
    "counter=0\n",
    "for masked_statement in masked_test_sentences:\n",
    "    bert_base_predictions.append(unmasker(masked_statement))\n",
    "    counter+=1\n",
    "    print(counter)"
   ]
  },
  {
   "cell_type": "code",
   "execution_count": 105,
   "metadata": {
    "scrolled": true
   },
   "outputs": [],
   "source": [
    "bert_base_masked_word_predictions = []\n",
    "correct = 0 \n",
    "\n",
    "counter=0\n",
    "for lst in bert_base_predictions:\n",
    "    correct_word = test_sentences_masks[counter]\n",
    "    test_sentences_mask_pairs[counter].remove(correct_word)\n",
    "    incorrect_word = test_sentences_mask_pairs[counter][0]\n",
    "    \n",
    "    correct_shown = False\n",
    "    incorrect_shown = False\n",
    "    for dic in lst:\n",
    "        token = dic['token_str']\n",
    "        if token == correct_word and incorrect_shown == False:\n",
    "            bert_base_masked_word_predictions.append(correct_word)\n",
    "            correct_shown=True\n",
    "            correct+=1\n",
    "            continue\n",
    "        elif token == incorrect_word and correct_shown == False:\n",
    "            bert_base_masked_word_predictions.append(incorrect_word)\n",
    "            incorrect_shown=True\n",
    "            continue\n",
    "    if correct_shown == False and incorrect_shown == False:\n",
    "        bert_base_masked_word_predictions.append(incorrect_word)\n",
    "    counter+=1"
   ]
  },
  {
   "cell_type": "code",
   "execution_count": 106,
   "metadata": {},
   "outputs": [
    {
     "data": {
      "text/plain": [
       "0.4925143953934741"
      ]
     },
     "execution_count": 106,
     "metadata": {},
     "output_type": "execute_result"
    }
   ],
   "source": [
    "correct/len(bert_base_masked_word_predictions)"
   ]
  },
  {
   "cell_type": "code",
   "execution_count": null,
   "metadata": {},
   "outputs": [],
   "source": []
  }
 ],
 "metadata": {
  "kernelspec": {
   "display_name": "Python (RICA_NEW)",
   "language": "python",
   "name": "rica_new"
  },
  "language_info": {
   "codemirror_mode": {
    "name": "ipython",
    "version": 3
   },
   "file_extension": ".py",
   "mimetype": "text/x-python",
   "name": "python",
   "nbconvert_exporter": "python",
   "pygments_lexer": "ipython3",
   "version": "3.6.5"
  }
 },
 "nbformat": 4,
 "nbformat_minor": 4
}
